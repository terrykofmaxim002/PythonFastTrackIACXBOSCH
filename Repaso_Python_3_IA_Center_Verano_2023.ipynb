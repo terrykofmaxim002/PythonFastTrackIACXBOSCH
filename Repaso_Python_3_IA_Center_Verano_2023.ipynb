{
  "cells": [
    {
      "attachments": {},
      "cell_type": "markdown",
      "metadata": {
        "id": "RvbM_BoB12SR"
      },
      "source": [
        "\n",
        "\n",
        "# **Variables**\n"
      ]
    },
    {
      "attachments": {},
      "cell_type": "markdown",
      "metadata": {},
      "source": []
    },
    {
      "attachments": {},
      "cell_type": "markdown",
      "metadata": {},
      "source": []
    },
    {
      "attachments": {},
      "cell_type": "markdown",
      "metadata": {},
      "source": []
    },
    {
      "attachments": {},
      "cell_type": "markdown",
      "metadata": {},
      "source": []
    },
    {
      "attachments": {},
      "cell_type": "markdown",
      "metadata": {},
      "source": []
    },
    {
      "attachments": {},
      "cell_type": "markdown",
      "metadata": {},
      "source": []
    },
    {
      "attachments": {},
      "cell_type": "markdown",
      "metadata": {},
      "source": []
    },
    {
      "attachments": {},
      "cell_type": "markdown",
      "metadata": {},
      "source": []
    },
    {
      "cell_type": "code",
      "execution_count": null,
      "metadata": {},
      "outputs": [],
      "source": []
    },
    {
      "attachments": {},
      "cell_type": "markdown",
      "metadata": {},
      "source": []
    },
    {
      "cell_type": "code",
      "execution_count": null,
      "metadata": {},
      "outputs": [],
      "source": []
    },
    {
      "attachments": {},
      "cell_type": "markdown",
      "metadata": {},
      "source": []
    },
    {
      "cell_type": "code",
      "execution_count": null,
      "metadata": {
        "id": "iZ0Cos421wP4"
      },
      "outputs": [],
      "source": [
        "x = 10"
      ]
    },
    {
      "cell_type": "code",
      "execution_count": null,
      "metadata": {
        "colab": {
          "base_uri": "https://localhost:8080/"
        },
        "id": "7FAoY9V72TYg",
        "outputId": "95bce057-9c68-4dfc-9674-8c4a8d68d34d"
      },
      "outputs": [
        {
          "name": "stdout",
          "output_type": "stream",
          "text": [
            "zxc\n"
          ]
        }
      ],
      "source": [
        "print(x)"
      ]
    },
    {
      "cell_type": "code",
      "execution_count": null,
      "metadata": {},
      "outputs": [],
      "source": []
    },
    {
      "attachments": {},
      "cell_type": "markdown",
      "metadata": {},
      "source": []
    },
    {
      "cell_type": "code",
      "execution_count": null,
      "metadata": {
        "id": "JRQ5kOL72YcI"
      },
      "outputs": [],
      "source": [
        "x = 'zxc'"
      ]
    },
    {
      "cell_type": "code",
      "execution_count": null,
      "metadata": {
        "colab": {
          "base_uri": "https://localhost:8080/"
        },
        "id": "R7E_j2kj2gnt",
        "outputId": "a0d250c9-ec53-49fb-9286-5f418e79bcd1"
      },
      "outputs": [
        {
          "name": "stdout",
          "output_type": "stream",
          "text": [
            "1\n",
            "2\n"
          ]
        }
      ],
      "source": [
        "asdf = 1\n",
        "ASDF = 2\n",
        "\n",
        "print(asdf)\n",
        "print(ASDF)"
      ]
    },
    {
      "cell_type": "code",
      "execution_count": null,
      "metadata": {
        "colab": {
          "base_uri": "https://localhost:8080/"
        },
        "id": "5U9h8IOD2wUB",
        "outputId": "5136719f-3948-415a-a23d-49cfde8d3f09"
      },
      "outputs": [
        {
          "name": "stdout",
          "output_type": "stream",
          "text": [
            "1\n"
          ]
        }
      ],
      "source": [
        "x1 = 1\n",
        "\n",
        "print(x1)"
      ]
    },
    {
      "cell_type": "code",
      "execution_count": null,
      "metadata": {
        "colab": {
          "base_uri": "https://localhost:8080/"
        },
        "id": "k192xkV12839",
        "outputId": "e853aa28-40f1-427b-abbc-c7239a3af0eb"
      },
      "outputs": [
        {
          "name": "stdout",
          "output_type": "stream",
          "text": [
            "2\n"
          ]
        }
      ],
      "source": [
        "_x1_ = 2\n",
        "\n",
        "print(_x1_)"
      ]
    },
    {
      "cell_type": "code",
      "execution_count": null,
      "metadata": {
        "colab": {
          "base_uri": "https://localhost:8080/"
        },
        "id": "Zu3fVnY93p4g",
        "outputId": "337b5c73-0c56-49a7-afec-b8145bae0f20"
      },
      "outputs": [
        {
          "name": "stdout",
          "output_type": "stream",
          "text": [
            "10\n"
          ]
        }
      ],
      "source": [
        "_ = 10\n",
        "\n",
        "print(_)"
      ]
    },
    {
      "attachments": {},
      "cell_type": "markdown",
      "metadata": {
        "id": "nI0LD0vJ4Rzp"
      },
      "source": [
        "\n",
        "\n",
        "# **Tipos de error**\n",
        "\n",
        "*   Alfabeto\n",
        "*   Léxico\n",
        "*   Sintaxis\n",
        "*   Semántica\n",
        "\n",
        "\n"
      ]
    },
    {
      "attachments": {},
      "cell_type": "markdown",
      "metadata": {
        "id": "XNCg03Yw5bN3"
      },
      "source": [
        "\n",
        "\n",
        "# **Funciones**\n",
        "\n"
      ]
    },
    {
      "cell_type": "code",
      "execution_count": null,
      "metadata": {
        "colab": {
          "base_uri": "https://localhost:8080/"
        },
        "id": "lGS21j9b5f_f",
        "outputId": "aae5c422-99f1-4797-a2d8-e33b99bc832b"
      },
      "outputs": [
        {
          "name": "stdout",
          "output_type": "stream",
          "text": [
            "Hola!\n"
          ]
        }
      ],
      "source": [
        "print(\"Hola!\")"
      ]
    },
    {
      "cell_type": "code",
      "execution_count": null,
      "metadata": {
        "colab": {
          "base_uri": "https://localhost:8080/"
        },
        "id": "obdaZ9Il5sve",
        "outputId": "30e51624-55fe-4414-ec71-b5cc93530752"
      },
      "outputs": [
        {
          "name": "stdout",
          "output_type": "stream",
          "text": [
            "10\n"
          ]
        }
      ],
      "source": [
        "print(10)"
      ]
    },
    {
      "cell_type": "code",
      "execution_count": null,
      "metadata": {
        "colab": {
          "base_uri": "https://localhost:8080/"
        },
        "id": "dOCU18s-5u-p",
        "outputId": "5931f263-3e03-4deb-c1a5-52f5d679d6d2"
      },
      "outputs": [
        {
          "name": "stdout",
          "output_type": "stream",
          "text": [
            "10\n"
          ]
        }
      ],
      "source": [
        "x = 10\n",
        "print(x)"
      ]
    },
    {
      "cell_type": "code",
      "execution_count": null,
      "metadata": {
        "colab": {
          "base_uri": "https://localhost:8080/"
        },
        "id": "mP53PF2t57fU",
        "outputId": "b7bffb45-f60c-458d-ea11-13b1bf7dc1ef"
      },
      "outputs": [
        {
          "data": {
            "text/plain": [
              "100"
            ]
          },
          "execution_count": 19,
          "metadata": {},
          "output_type": "execute_result"
        }
      ],
      "source": [
        "max(10, 100)"
      ]
    },
    {
      "cell_type": "code",
      "execution_count": null,
      "metadata": {
        "colab": {
          "base_uri": "https://localhost:8080/"
        },
        "id": "Zf7J7JxC5-u0",
        "outputId": "bf0973d6-6abf-411e-c38a-2c83e53a1cbf"
      },
      "outputs": [
        {
          "data": {
            "text/plain": [
              "10"
            ]
          },
          "execution_count": 20,
          "metadata": {},
          "output_type": "execute_result"
        }
      ],
      "source": [
        "min(10, 100)"
      ]
    },
    {
      "cell_type": "code",
      "execution_count": null,
      "metadata": {
        "colab": {
          "base_uri": "https://localhost:8080/"
        },
        "id": "tb8TXkX06DAY",
        "outputId": "67cfad1f-4c52-4de8-fa61-cc57b4b3b802"
      },
      "outputs": [
        {
          "name": "stdout",
          "output_type": "stream",
          "text": [
            "Hola, ¿Cómo estas?.Sale y vale\n"
          ]
        }
      ],
      "source": [
        "print(\"Hola\", \"¿Cómo estas?\", sep=\", \", end=\".\")\n",
        "print(\"Sale y vale\")"
      ]
    },
    {
      "attachments": {},
      "cell_type": "markdown",
      "metadata": {
        "id": "O68lkqo57q0J"
      },
      "source": [
        "\n",
        "\n",
        "# **Strings**\n",
        "\n"
      ]
    },
    {
      "cell_type": "code",
      "execution_count": null,
      "metadata": {
        "colab": {
          "base_uri": "https://localhost:8080/"
        },
        "id": "L23wRjCd7t5Y",
        "outputId": "3d40457c-1889-43e6-e8f3-fb83ba8424da"
      },
      "outputs": [
        {
          "name": "stdout",
          "output_type": "stream",
          "text": [
            "Hola Mundo\n",
            "Hola Mundo\n",
            "Hola Mundo\n"
          ]
        }
      ],
      "source": [
        "x = \"Hola\"\n",
        "y = \"Mundo\"\n",
        "\n",
        "print(x, y)\n",
        "print(\"Hola\", y)\n",
        "print(x, \"Mundo\")"
      ]
    },
    {
      "cell_type": "code",
      "execution_count": null,
      "metadata": {
        "colab": {
          "base_uri": "https://localhost:8080/"
        },
        "id": "PCSSsge_8WnV",
        "outputId": "decbf9f5-a03d-417e-dd2d-d5b65acfb6c5"
      },
      "outputs": [
        {
          "name": "stdout",
          "output_type": "stream",
          "text": [
            "Hola\n",
            "Hola\n",
            "Hola\n",
            "Hola\n"
          ]
        }
      ],
      "source": [
        "print(\"Hola\")\n",
        "print('Hola')\n",
        "print(\"\"\"Hola\"\"\")\n",
        "print('''Hola''')"
      ]
    },
    {
      "cell_type": "code",
      "execution_count": null,
      "metadata": {
        "colab": {
          "base_uri": "https://localhost:8080/"
        },
        "id": "DXQUuzbl9log",
        "outputId": "14da3b37-b782-483b-a3ce-522110f345c2"
      },
      "outputs": [
        {
          "name": "stdout",
          "output_type": "stream",
          "text": [
            "Me llamo \"Jezrrel\", Mc'Money\n"
          ]
        }
      ],
      "source": [
        "print('''Me llamo \"Jezrrel\", Mc'Money''')"
      ]
    },
    {
      "cell_type": "code",
      "execution_count": null,
      "metadata": {
        "colab": {
          "base_uri": "https://localhost:8080/"
        },
        "id": "72x11Cbg9vQ0",
        "outputId": "30385caa-8978-4f07-dcd2-68374db94049"
      },
      "outputs": [
        {
          "name": "stdout",
          "output_type": "stream",
          "text": [
            "Hola.\n",
            "¿Cómo estas?\n"
          ]
        }
      ],
      "source": [
        "print(\"Hola.\\n¿Cómo estas?\")"
      ]
    },
    {
      "cell_type": "code",
      "execution_count": null,
      "metadata": {
        "colab": {
          "base_uri": "https://localhost:8080/"
        },
        "id": "VV0EW-lx-ASQ",
        "outputId": "4bdaa4c9-1c9a-461e-e781-39ee42446df6"
      },
      "outputs": [
        {
          "name": "stdout",
          "output_type": "stream",
          "text": [
            "Hola.\n",
            "¿Cómo estas?\n"
          ]
        }
      ],
      "source": [
        "print('''Hola.\n",
        "¿Cómo estas?''')"
      ]
    },
    {
      "attachments": {},
      "cell_type": "markdown",
      "metadata": {
        "id": "jQaYA2I1-urS"
      },
      "source": [
        "# **String Slicing**"
      ]
    },
    {
      "cell_type": "code",
      "execution_count": null,
      "metadata": {
        "colab": {
          "base_uri": "https://localhost:8080/"
        },
        "id": "75OPfeG9-xe-",
        "outputId": "243870b1-12b1-4246-f1fb-a2ae3713732d"
      },
      "outputs": [
        {
          "name": "stdout",
          "output_type": "stream",
          "text": [
            "Hola mundo!\n",
            "H\n",
            "a\n",
            "u\n"
          ]
        }
      ],
      "source": [
        "message = \"Hola mundo!\"\n",
        "\n",
        "print(message)\n",
        "print(message[0])\n",
        "print(message[3])\n",
        "print(message[6])"
      ]
    },
    {
      "cell_type": "code",
      "execution_count": null,
      "metadata": {
        "colab": {
          "base_uri": "https://localhost:8080/"
        },
        "id": "Ti_jD8tiFWi7",
        "outputId": "465481ee-5600-4b7a-f519-805ba059a808"
      },
      "outputs": [
        {
          "name": "stdout",
          "output_type": "stream",
          "text": [
            "!\n"
          ]
        }
      ],
      "source": [
        "print(message[-1])"
      ]
    },
    {
      "cell_type": "code",
      "execution_count": null,
      "metadata": {
        "colab": {
          "base_uri": "https://localhost:8080/"
        },
        "id": "w1I4BFk-GM41",
        "outputId": "dd7d6ee5-3eaf-486a-acaf-196f76179271"
      },
      "outputs": [
        {
          "name": "stdout",
          "output_type": "stream",
          "text": [
            "Hola mund\n",
            "la mundo!\n"
          ]
        }
      ],
      "source": [
        "print(message[:9])\n",
        "print(message[2:])"
      ]
    },
    {
      "cell_type": "code",
      "execution_count": null,
      "metadata": {
        "colab": {
          "base_uri": "https://localhost:8080/"
        },
        "id": "-aX1IM3RFOyB",
        "outputId": "8f91a32f-790b-4133-b580-b4e33c54f712"
      },
      "outputs": [
        {
          "name": "stdout",
          "output_type": "stream",
          "text": [
            "l ud\n"
          ]
        }
      ],
      "source": [
        "print(message[2:9:2])"
      ]
    },
    {
      "cell_type": "code",
      "execution_count": null,
      "metadata": {
        "colab": {
          "base_uri": "https://localhost:8080/"
        },
        "id": "0i2RkVNtFR3m",
        "outputId": "06259583-4aab-4c76-e10e-2f55f13648da"
      },
      "outputs": [
        {
          "name": "stdout",
          "output_type": "stream",
          "text": [
            "!odnum aloH\n"
          ]
        }
      ],
      "source": [
        "print(message[::-1])"
      ]
    },
    {
      "attachments": {},
      "cell_type": "markdown",
      "metadata": {
        "id": "G0VdstcKHESZ"
      },
      "source": [
        "# **String Methods**"
      ]
    },
    {
      "cell_type": "code",
      "execution_count": null,
      "metadata": {
        "colab": {
          "base_uri": "https://localhost:8080/"
        },
        "id": "Nmfyd0O1HJWi",
        "outputId": "e784e3de-82b2-415c-91d4-723a883466a1"
      },
      "outputs": [
        {
          "name": "stdout",
          "output_type": "stream",
          "text": [
            "hola mundo!\n"
          ]
        }
      ],
      "source": [
        "message = \"Hola Mundo!\"\n",
        "\n",
        "x = message.lower()\n",
        "\n",
        "print(x)"
      ]
    },
    {
      "cell_type": "code",
      "execution_count": null,
      "metadata": {
        "colab": {
          "base_uri": "https://localhost:8080/"
        },
        "id": "es94xAFoHUX9",
        "outputId": "2a7bd363-ada2-4cd0-ad8e-1e6042ff97be"
      },
      "outputs": [
        {
          "name": "stdout",
          "output_type": "stream",
          "text": [
            "HOLA MUNDO!\n"
          ]
        }
      ],
      "source": [
        "x = message.upper()\n",
        "\n",
        "print(x)"
      ]
    },
    {
      "cell_type": "code",
      "execution_count": null,
      "metadata": {
        "colab": {
          "base_uri": "https://localhost:8080/"
        },
        "id": "bc3aIVV1Il8q",
        "outputId": "2a881d3e-5ed6-4af1-c4bb-43eea3b35ad6"
      },
      "outputs": [
        {
          "name": "stdout",
          "output_type": "stream",
          "text": [
            "2\n"
          ]
        }
      ],
      "source": [
        "print(message.count(\"o\"))"
      ]
    },
    {
      "cell_type": "code",
      "execution_count": null,
      "metadata": {
        "colab": {
          "base_uri": "https://localhost:8080/"
        },
        "id": "mAQovLXRIq0Y",
        "outputId": "58248112-6969-4615-8d76-bb9b87e8157d"
      },
      "outputs": [
        {
          "name": "stdout",
          "output_type": "stream",
          "text": [
            "Hello Mundo!\n"
          ]
        }
      ],
      "source": [
        "new_message = message.replace(\"Hola\", \"Hello\")\n",
        "\n",
        "print(new_message)"
      ]
    },
    {
      "cell_type": "code",
      "execution_count": null,
      "metadata": {
        "colab": {
          "base_uri": "https://localhost:8080/"
        },
        "id": "yWOa6Cm0JDal",
        "outputId": "09f2c7e2-f0f5-4094-d770-80902adfa25b"
      },
      "outputs": [
        {
          "name": "stdout",
          "output_type": "stream",
          "text": [
            "Hola mi nombre es Jezrrel, tengo 23 años.\n"
          ]
        }
      ],
      "source": [
        "nombre = \"Jezrrel\"\n",
        "edad = 23\n",
        "\n",
        "temp = \"Hola mi nombre es {}, tengo {} años.\"\n",
        "\n",
        "print(temp.format(nombre, edad))\n",
        "\n",
        "# print(\"Hola mi nombre es {}, tengo {} años.\".format(nombre, edad))"
      ]
    },
    {
      "attachments": {},
      "cell_type": "markdown",
      "metadata": {
        "id": "uJKuJFnAKBTM"
      },
      "source": [
        "# **Enteros y Flotantes**"
      ]
    },
    {
      "cell_type": "code",
      "execution_count": null,
      "metadata": {
        "colab": {
          "base_uri": "https://localhost:8080/"
        },
        "id": "7xXW4e_yKEoL",
        "outputId": "d1a73f71-ff4a-4e76-a4a3-4be3763e018c"
      },
      "outputs": [
        {
          "name": "stdout",
          "output_type": "stream",
          "text": [
            "<class 'int'>\n",
            "1\n"
          ]
        }
      ],
      "source": [
        "x = 1\n",
        "\n",
        "print(type(x))\n",
        "print(x)"
      ]
    },
    {
      "cell_type": "code",
      "execution_count": null,
      "metadata": {
        "colab": {
          "base_uri": "https://localhost:8080/"
        },
        "id": "uS57BEtwKKhm",
        "outputId": "a1864d82-5e75-4833-bb29-92a27bd18626"
      },
      "outputs": [
        {
          "name": "stdout",
          "output_type": "stream",
          "text": [
            "<class 'float'>\n",
            "1.0\n"
          ]
        }
      ],
      "source": [
        "x = 1.0\n",
        "\n",
        "print(type(x))\n",
        "print(x)"
      ]
    },
    {
      "cell_type": "code",
      "execution_count": null,
      "metadata": {
        "colab": {
          "base_uri": "https://localhost:8080/"
        },
        "id": "sHj1Q8D5KgUw",
        "outputId": "0a42884f-503d-48b3-b703-7011f6769ddf"
      },
      "outputs": [
        {
          "name": "stdout",
          "output_type": "stream",
          "text": [
            "<class 'float'>\n",
            "1.0\n"
          ]
        }
      ],
      "source": [
        "x = 0.99 + 0.01\n",
        "\n",
        "print(type(x))\n",
        "print(x)"
      ]
    },
    {
      "cell_type": "code",
      "execution_count": null,
      "metadata": {
        "colab": {
          "base_uri": "https://localhost:8080/"
        },
        "id": "U8j_tjfwKn5V",
        "outputId": "be44b93c-69c3-4eee-c209-cc6f7741830f"
      },
      "outputs": [
        {
          "name": "stdout",
          "output_type": "stream",
          "text": [
            "<class 'float'>\n",
            "11.5\n"
          ]
        }
      ],
      "source": [
        "x = 10 + 1.5\n",
        "\n",
        "print(type(x))\n",
        "print(x)"
      ]
    },
    {
      "attachments": {},
      "cell_type": "markdown",
      "metadata": {
        "id": "jruTc8pbK9_A"
      },
      "source": [
        "# **Operadores Aritméticos**\n",
        "\n",
        "\n",
        "\n",
        "+ Addition\n",
        "- Substraction\n",
        "* Multiplitation\n",
        "/ Division\n",
        "\n"
      ]
    },
    {
      "cell_type": "code",
      "execution_count": null,
      "metadata": {
        "colab": {
          "base_uri": "https://localhost:8080/"
        },
        "id": "retgez_jLWnK",
        "outputId": "1c34bc3b-ea06-4f75-fb0d-63586e822a93"
      },
      "outputs": [
        {
          "name": "stdout",
          "output_type": "stream",
          "text": [
            "5\n",
            "5.0\n",
            "5.0\n",
            "5.0\n"
          ]
        }
      ],
      "source": [
        "print(2 + 3)\n",
        "print(2.0 + 3)\n",
        "print(2 + 3.0)\n",
        "print(2.0 + 3.0)"
      ]
    },
    {
      "cell_type": "code",
      "execution_count": null,
      "metadata": {
        "colab": {
          "base_uri": "https://localhost:8080/"
        },
        "id": "f_TOFTwlLdJ3",
        "outputId": "b35d2bbd-44a0-4816-dce3-5408c8ddd1ec"
      },
      "outputs": [
        {
          "name": "stdout",
          "output_type": "stream",
          "text": [
            "-1\n",
            "-1.0\n",
            "-1.0\n",
            "-1.0\n"
          ]
        }
      ],
      "source": [
        "print(2 - 3)\n",
        "print(2.0 - 3)\n",
        "print(2 - 3.0)\n",
        "print(2.0 - 3.0)"
      ]
    },
    {
      "cell_type": "code",
      "execution_count": null,
      "metadata": {
        "colab": {
          "base_uri": "https://localhost:8080/"
        },
        "id": "aKSDPc9KLftL",
        "outputId": "df6b161e-81ec-40e9-a63f-f2e095ef69dc"
      },
      "outputs": [
        {
          "name": "stdout",
          "output_type": "stream",
          "text": [
            "6\n",
            "6.0\n",
            "6.0\n",
            "6.0\n"
          ]
        }
      ],
      "source": [
        "print(2 * 3)\n",
        "print(2.0 * 3)\n",
        "print(2 * 3.0)\n",
        "print(2.0 * 3.0)"
      ]
    },
    {
      "cell_type": "code",
      "execution_count": null,
      "metadata": {
        "colab": {
          "base_uri": "https://localhost:8080/"
        },
        "id": "_qy5MkQGLjXU",
        "outputId": "f0cab5ae-af8a-43e8-c579-5bddf048c6d1"
      },
      "outputs": [
        {
          "name": "stdout",
          "output_type": "stream",
          "text": [
            "0.6666666666666666\n",
            "0.6666666666666666\n",
            "0.6666666666666666\n",
            "0.6666666666666666\n"
          ]
        }
      ],
      "source": [
        "print(2 / 3)\n",
        "print(2.0 / 3)\n",
        "print(2 / 3.0)\n",
        "print(2.0 / 3.0)"
      ]
    },
    {
      "cell_type": "code",
      "execution_count": null,
      "metadata": {
        "colab": {
          "base_uri": "https://localhost:8080/"
        },
        "id": "sO5JdRriL-v2",
        "outputId": "269ac45a-fd0b-452b-aad6-182dedd7d6d9"
      },
      "outputs": [
        {
          "name": "stdout",
          "output_type": "stream",
          "text": [
            "1\n",
            "1.0\n",
            "1.0\n",
            "1.0\n"
          ]
        }
      ],
      "source": [
        "print(5 // 3)\n",
        "print(5.0 // 3)\n",
        "print(5 // 3.0)\n",
        "print(5.0 // 3.0)"
      ]
    },
    {
      "cell_type": "code",
      "execution_count": null,
      "metadata": {
        "colab": {
          "base_uri": "https://localhost:8080/"
        },
        "id": "Hg5dOlqLMM-P",
        "outputId": "ad5b41f9-9317-42fb-c8cc-02124d0b8c2f"
      },
      "outputs": [
        {
          "name": "stdout",
          "output_type": "stream",
          "text": [
            "8\n",
            "8.0\n",
            "8.0\n",
            "8.0\n"
          ]
        }
      ],
      "source": [
        "print(2 ** 3)\n",
        "print(2.0 ** 3)\n",
        "print(2 ** 3.0)\n",
        "print(2.0 ** 3.0)"
      ]
    },
    {
      "cell_type": "code",
      "execution_count": null,
      "metadata": {
        "colab": {
          "base_uri": "https://localhost:8080/"
        },
        "id": "fzsxwkBBMRWy",
        "outputId": "301d70a1-ccd2-4909-917b-ec92771fc12b"
      },
      "outputs": [
        {
          "name": "stdout",
          "output_type": "stream",
          "text": [
            "1\n",
            "2.0\n",
            "2.0\n",
            "2.0\n"
          ]
        }
      ],
      "source": [
        "print(4 % 3)\n",
        "print(8.0 % 3)\n",
        "print(8 % 3.0)\n",
        "print(8.0 % 3.0)"
      ]
    },
    {
      "cell_type": "code",
      "execution_count": null,
      "metadata": {
        "colab": {
          "base_uri": "https://localhost:8080/"
        },
        "id": "aA04T6laNXXx",
        "outputId": "f4f0f51c-9dde-4df5-ad5d-a57a343a5a3c"
      },
      "outputs": [
        {
          "name": "stdout",
          "output_type": "stream",
          "text": [
            "0\n"
          ]
        }
      ],
      "source": [
        "x = 123456\n",
        "\n",
        "print(x % 2)"
      ]
    },
    {
      "cell_type": "code",
      "execution_count": null,
      "metadata": {
        "colab": {
          "base_uri": "https://localhost:8080/"
        },
        "id": "R_44R7BUNftn",
        "outputId": "f619d1b0-749e-4c52-e231-a0728c76700f"
      },
      "outputs": [
        {
          "name": "stdout",
          "output_type": "stream",
          "text": [
            "1\n"
          ]
        }
      ],
      "source": [
        "x = 12345\n",
        "\n",
        "print(x % 2)"
      ]
    },
    {
      "attachments": {},
      "cell_type": "markdown",
      "metadata": {
        "id": "lmVwqkGlNYfN"
      },
      "source": [
        "# **Booleanos**"
      ]
    },
    {
      "cell_type": "code",
      "execution_count": null,
      "metadata": {
        "id": "RmFkcZ7gNk2x"
      },
      "outputs": [],
      "source": [
        "True\n",
        "False"
      ]
    },
    {
      "attachments": {},
      "cell_type": "markdown",
      "metadata": {
        "id": "hhxT46VkNqIZ"
      },
      "source": [
        "# **Operadores de Comparación**\n"
      ]
    },
    {
      "cell_type": "code",
      "execution_count": null,
      "metadata": {
        "colab": {
          "base_uri": "https://localhost:8080/"
        },
        "id": "hYquxKtTN1h6",
        "outputId": "d710b223-725d-44ab-8d9d-e8b929f8353f"
      },
      "outputs": [
        {
          "name": "stdout",
          "output_type": "stream",
          "text": [
            "True\n"
          ]
        }
      ],
      "source": [
        "print(10 == 10)"
      ]
    },
    {
      "cell_type": "code",
      "execution_count": null,
      "metadata": {
        "colab": {
          "base_uri": "https://localhost:8080/"
        },
        "id": "r8xyUZHuOUGI",
        "outputId": "9f273830-3aca-4972-f603-9f8e67fe6cb6"
      },
      "outputs": [
        {
          "name": "stdout",
          "output_type": "stream",
          "text": [
            "False\n"
          ]
        }
      ],
      "source": [
        "print(10 == 5)"
      ]
    },
    {
      "cell_type": "code",
      "execution_count": null,
      "metadata": {
        "colab": {
          "base_uri": "https://localhost:8080/"
        },
        "id": "tfW5v1bqOfjC",
        "outputId": "ccc6bdc4-1ecd-448a-d246-cca71c962ff5"
      },
      "outputs": [
        {
          "name": "stdout",
          "output_type": "stream",
          "text": [
            "False\n"
          ]
        }
      ],
      "source": [
        "print(10 == '10')"
      ]
    },
    {
      "cell_type": "code",
      "execution_count": null,
      "metadata": {
        "colab": {
          "base_uri": "https://localhost:8080/"
        },
        "id": "t8WRlfHhOh8d",
        "outputId": "db00c7f2-aec3-4687-b5e1-73d787c0dafb"
      },
      "outputs": [
        {
          "name": "stdout",
          "output_type": "stream",
          "text": [
            "True\n",
            "False\n"
          ]
        }
      ],
      "source": [
        "print(10 == 10.0)\n",
        "\n",
        "print(10 is 10.0)"
      ]
    },
    {
      "cell_type": "code",
      "execution_count": null,
      "metadata": {
        "colab": {
          "base_uri": "https://localhost:8080/"
        },
        "id": "c8AbQIpsOvr-",
        "outputId": "cb5b2aa7-21c5-4204-d0f8-da43945f1ef7"
      },
      "outputs": [
        {
          "name": "stdout",
          "output_type": "stream",
          "text": [
            "False\n"
          ]
        }
      ],
      "source": [
        "print(10 != 10.0)"
      ]
    },
    {
      "cell_type": "code",
      "execution_count": null,
      "metadata": {
        "colab": {
          "base_uri": "https://localhost:8080/"
        },
        "id": "5uWP4dxBPBXH",
        "outputId": "e86167ea-6a2d-436e-b671-d62046f6a8e2"
      },
      "outputs": [
        {
          "name": "stdout",
          "output_type": "stream",
          "text": [
            "False\n",
            "True\n",
            "False\n"
          ]
        }
      ],
      "source": [
        "print(10 > 10.0)\n",
        "print(10 > 5)\n",
        "print(10 > 15)"
      ]
    },
    {
      "cell_type": "code",
      "execution_count": null,
      "metadata": {
        "colab": {
          "base_uri": "https://localhost:8080/"
        },
        "id": "Jnj4u8mTPI9X",
        "outputId": "9c68179a-12fe-456a-ab74-c0678d1411a2"
      },
      "outputs": [
        {
          "name": "stdout",
          "output_type": "stream",
          "text": [
            "False\n",
            "False\n",
            "True\n"
          ]
        }
      ],
      "source": [
        "print(10 < 10.0)\n",
        "print(10 < 5)\n",
        "print(10 < 15)"
      ]
    },
    {
      "cell_type": "code",
      "execution_count": null,
      "metadata": {
        "colab": {
          "base_uri": "https://localhost:8080/"
        },
        "id": "4i3QGdOvPL72",
        "outputId": "e0b34cdf-2c39-4173-ffa1-4151eb2f717a"
      },
      "outputs": [
        {
          "name": "stdout",
          "output_type": "stream",
          "text": [
            "True\n",
            "True\n",
            "False\n"
          ]
        }
      ],
      "source": [
        "print(10 >= 10.0)\n",
        "print(10 >= 5)\n",
        "print(10 >= 15)"
      ]
    },
    {
      "cell_type": "code",
      "execution_count": null,
      "metadata": {
        "colab": {
          "base_uri": "https://localhost:8080/"
        },
        "id": "2BkE7ucLPQTH",
        "outputId": "42b5a3c9-1310-466b-f472-4f76556e28f3"
      },
      "outputs": [
        {
          "name": "stdout",
          "output_type": "stream",
          "text": [
            "True\n",
            "False\n",
            "True\n"
          ]
        }
      ],
      "source": [
        "print(10 <= 10.0)\n",
        "print(10 <= 5)\n",
        "print(10 <= 15)"
      ]
    },
    {
      "attachments": {},
      "cell_type": "markdown",
      "metadata": {
        "id": "FqunXDVIPktB"
      },
      "source": [
        "# **Operadores Lógicos**"
      ]
    },
    {
      "cell_type": "code",
      "execution_count": null,
      "metadata": {
        "colab": {
          "base_uri": "https://localhost:8080/"
        },
        "id": "2i1wQg_RPxby",
        "outputId": "11652b88-cfcf-4d61-b86f-5574319557cd"
      },
      "outputs": [
        {
          "name": "stdout",
          "output_type": "stream",
          "text": [
            "True\n",
            "True\n"
          ]
        }
      ],
      "source": [
        "print(10 == 10)\n",
        "print(True)"
      ]
    },
    {
      "cell_type": "code",
      "execution_count": null,
      "metadata": {
        "colab": {
          "base_uri": "https://localhost:8080/"
        },
        "id": "QcI0-Sf7P2sm",
        "outputId": "368f20f8-7a2f-4850-baa4-0e3b11c3fef4"
      },
      "outputs": [
        {
          "name": "stdout",
          "output_type": "stream",
          "text": [
            "True\n",
            "False\n",
            "False\n",
            "False\n"
          ]
        }
      ],
      "source": [
        "print(True and True)\n",
        "print(False and True)\n",
        "print(True and False)\n",
        "print(False and False)"
      ]
    },
    {
      "cell_type": "code",
      "execution_count": null,
      "metadata": {
        "colab": {
          "base_uri": "https://localhost:8080/"
        },
        "id": "WsyyEzo_QDe5",
        "outputId": "c306130c-2b0b-4f2f-f181-d14d42318555"
      },
      "outputs": [
        {
          "name": "stdout",
          "output_type": "stream",
          "text": [
            "True\n",
            "True\n",
            "True\n",
            "False\n"
          ]
        }
      ],
      "source": [
        "print(True or True)\n",
        "print(False or True)\n",
        "print(True or False)\n",
        "print(False or False)"
      ]
    },
    {
      "cell_type": "code",
      "execution_count": null,
      "metadata": {
        "colab": {
          "base_uri": "https://localhost:8080/"
        },
        "id": "iixAkq30QGgD",
        "outputId": "5f9bb37f-1f81-4ff2-e148-a659235684ce"
      },
      "outputs": [
        {
          "name": "stdout",
          "output_type": "stream",
          "text": [
            "False\n",
            "True\n"
          ]
        }
      ],
      "source": [
        "print(not True)\n",
        "print(not False)"
      ]
    },
    {
      "attachments": {},
      "cell_type": "markdown",
      "metadata": {
        "id": "FnzsMoBQuBIm"
      },
      "source": [
        "# **Aritmética de Strings**"
      ]
    },
    {
      "cell_type": "code",
      "execution_count": null,
      "metadata": {
        "colab": {
          "base_uri": "https://localhost:8080/"
        },
        "id": "-zdBwTxjuIZT",
        "outputId": "0c9e698b-e33c-499b-ecac-43102cdeb426"
      },
      "outputs": [
        {
          "name": "stdout",
          "output_type": "stream",
          "text": [
            "Holamundo!\n"
          ]
        }
      ],
      "source": [
        "word1 = \"Hola\"\n",
        "word2 = \"mundo!\"\n",
        "\n",
        "result = word1 + word2\n",
        "\n",
        "print(result)"
      ]
    },
    {
      "cell_type": "code",
      "execution_count": null,
      "metadata": {
        "colab": {
          "base_uri": "https://localhost:8080/"
        },
        "id": "BHYiBCA-uhzI",
        "outputId": "c09283f7-3e6b-4812-d8a1-0308c2e85ab4"
      },
      "outputs": [
        {
          "name": "stdout",
          "output_type": "stream",
          "text": [
            "False\n"
          ]
        }
      ],
      "source": [
        "word1 = \"Hola\"\n",
        "word2 = \"mundo!\"\n",
        "\n",
        "result = word1 == word2\n",
        "\n",
        "print(result)"
      ]
    },
    {
      "cell_type": "code",
      "execution_count": null,
      "metadata": {
        "colab": {
          "base_uri": "https://localhost:8080/"
        },
        "id": "7kPSCKn8uzep",
        "outputId": "0a19d6be-c908-42b7-f204-6885d95c8779"
      },
      "outputs": [
        {
          "name": "stdout",
          "output_type": "stream",
          "text": [
            "True\n"
          ]
        }
      ],
      "source": [
        "word1 = \"Hola\"\n",
        "word2 = \"Hola\"\n",
        "\n",
        "result = word1 == word2\n",
        "\n",
        "print(result)"
      ]
    },
    {
      "cell_type": "code",
      "execution_count": null,
      "metadata": {
        "colab": {
          "base_uri": "https://localhost:8080/"
        },
        "id": "B34dBabLu8h1",
        "outputId": "ca542c00-f577-48f5-92e4-48ccb43d5cf7"
      },
      "outputs": [
        {
          "name": "stdout",
          "output_type": "stream",
          "text": [
            "HolaHolaHolaHolaHola\n"
          ]
        }
      ],
      "source": [
        "word = \"Hola\"\n",
        "\n",
        "resultado = word * 5\n",
        "\n",
        "print(resultado)"
      ]
    },
    {
      "cell_type": "code",
      "execution_count": null,
      "metadata": {
        "colab": {
          "base_uri": "https://localhost:8080/"
        },
        "id": "v5IjZiW8wK-v",
        "outputId": "ec8596f5-9ef0-4197-997b-770198462a25"
      },
      "outputs": [
        {
          "name": "stdout",
          "output_type": "stream",
          "text": [
            "100200\n"
          ]
        }
      ],
      "source": [
        "num1 = \"100\"\n",
        "num2 = \"200\"\n",
        "\n",
        "print(num1 + num2)"
      ]
    },
    {
      "cell_type": "code",
      "execution_count": null,
      "metadata": {
        "colab": {
          "base_uri": "https://localhost:8080/"
        },
        "id": "E0C6h72TwSL_",
        "outputId": "3b323dda-846f-4eca-ff3e-139e57733a34"
      },
      "outputs": [
        {
          "name": "stdout",
          "output_type": "stream",
          "text": [
            "False\n"
          ]
        }
      ],
      "source": [
        "print(\"100\" == 100)"
      ]
    },
    {
      "cell_type": "code",
      "execution_count": null,
      "metadata": {
        "colab": {
          "base_uri": "https://localhost:8080/"
        },
        "id": "dJUPBWcqwZrx",
        "outputId": "5efcb236-6c27-4203-c0e9-94031cac9d84"
      },
      "outputs": [
        {
          "name": "stdout",
          "output_type": "stream",
          "text": [
            "300\n"
          ]
        }
      ],
      "source": [
        "num1 = \"100\"\n",
        "num2 = \"200\"\n",
        "\n",
        "num1 = int(num1)\n",
        "num2 = int(num2)\n",
        "\n",
        "print(num1 + num2)"
      ]
    },
    {
      "cell_type": "code",
      "execution_count": null,
      "metadata": {
        "colab": {
          "base_uri": "https://localhost:8080/"
        },
        "id": "lfki5pV6w8j_",
        "outputId": "73aaf66b-4795-4a86-f6ba-3651dbd2f41f"
      },
      "outputs": [
        {
          "name": "stdout",
          "output_type": "stream",
          "text": [
            "2\n"
          ]
        }
      ],
      "source": [
        "x = 1\n",
        "\n",
        "x = x + 1\n",
        "\n",
        "print(x)"
      ]
    },
    {
      "attachments": {},
      "cell_type": "markdown",
      "metadata": {
        "id": "0hieqXMAxc-L"
      },
      "source": [
        "# **Listas y Tuplas**"
      ]
    },
    {
      "cell_type": "code",
      "execution_count": null,
      "metadata": {
        "colab": {
          "base_uri": "https://localhost:8080/"
        },
        "id": "xaEt7veVxf2S",
        "outputId": "ced0e96b-ea09-47e9-dbe4-51e09554285b"
      },
      "outputs": [
        {
          "name": "stdout",
          "output_type": "stream",
          "text": [
            "[1, 2, 3]\n"
          ]
        }
      ],
      "source": [
        "courses = [1, 2, 3]\n",
        "\n",
        "print(courses)"
      ]
    },
    {
      "cell_type": "code",
      "execution_count": null,
      "metadata": {
        "colab": {
          "base_uri": "https://localhost:8080/"
        },
        "id": "QKOFgTohx2VH",
        "outputId": "2866534e-3a65-4f9e-c724-401eac0fdd16"
      },
      "outputs": [
        {
          "name": "stdout",
          "output_type": "stream",
          "text": [
            "[1, 1.0, '1', True]\n"
          ]
        }
      ],
      "source": [
        "courses = [1, 1.0, \"1\", True]\n",
        "\n",
        "print(courses)"
      ]
    },
    {
      "cell_type": "code",
      "execution_count": null,
      "metadata": {
        "colab": {
          "base_uri": "https://localhost:8080/"
        },
        "id": "5DTDwga_yVHN",
        "outputId": "31c94a0b-9622-4d90-d538-296b08330d3b"
      },
      "outputs": [
        {
          "name": "stdout",
          "output_type": "stream",
          "text": [
            "['Hola', 'mundo']\n",
            "['estoy', 'programando']\n",
            "Python\n"
          ]
        }
      ],
      "source": [
        "courses = [\"Hola\", \"mundo\", \"estoy\", \"programando\", \"Python\"]\n",
        "\n",
        "print(courses[0:2])\n",
        "print(courses[2:4])"
      ]
    },
    {
      "cell_type": "code",
      "execution_count": null,
      "metadata": {
        "colab": {
          "base_uri": "https://localhost:8080/"
        },
        "id": "Uf1qtCe5zAgQ",
        "outputId": "f6e28812-32bc-4613-c0ab-c3854d4fb200"
      },
      "outputs": [
        {
          "name": "stdout",
          "output_type": "stream",
          "text": [
            "['Hola', 'mundo']\n"
          ]
        }
      ],
      "source": [
        "courses2 = courses[0:2]\n",
        "\n",
        "print(courses2)"
      ]
    },
    {
      "cell_type": "code",
      "execution_count": null,
      "metadata": {
        "colab": {
          "base_uri": "https://localhost:8080/"
        },
        "id": "-4IeY22nzG4-",
        "outputId": "eb4430d9-afe1-480f-9af3-02da59f0d0e3"
      },
      "outputs": [
        {
          "name": "stdout",
          "output_type": "stream",
          "text": [
            "['Hola', 'mundo', 'estoy', 'programando', 'Python']\n",
            "['Hello', 'mundo', 'estoy', 'programando', 'Python']\n"
          ]
        }
      ],
      "source": [
        "courses = [\"Hola\", \"mundo\", \"estoy\", \"programando\", \"Python\"]\n",
        "\n",
        "print(courses)\n",
        "\n",
        "courses[0] = \"Hello\"\n",
        "\n",
        "print(courses)"
      ]
    },
    {
      "cell_type": "code",
      "execution_count": null,
      "metadata": {
        "colab": {
          "base_uri": "https://localhost:8080/"
        },
        "id": "nvLAQU7jzZJ2",
        "outputId": "6f764508-9695-495a-fff5-2a7ef566c24a"
      },
      "outputs": [
        {
          "name": "stdout",
          "output_type": "stream",
          "text": [
            "P\n"
          ]
        }
      ],
      "source": [
        "courses_str = \"Python\"\n",
        "print(courses_str[0])"
      ]
    },
    {
      "cell_type": "code",
      "execution_count": null,
      "metadata": {
        "colab": {
          "base_uri": "https://localhost:8080/"
        },
        "id": "ZjZiJSDTzafH",
        "outputId": "92e3a8fb-fcad-4080-9ea4-a4517957f53d"
      },
      "outputs": [
        {
          "name": "stdout",
          "output_type": "stream",
          "text": [
            "[1, 2, 3, 4, 5]\n",
            "[6, 2, 3, 4, 5]\n"
          ]
        }
      ],
      "source": [
        "lista = [1, 2, 3, 4, 5]\n",
        "\n",
        "print(lista)\n",
        "\n",
        "lista[0] = 6\n",
        "\n",
        "print(lista)"
      ]
    },
    {
      "cell_type": "code",
      "execution_count": null,
      "metadata": {
        "colab": {
          "base_uri": "https://localhost:8080/"
        },
        "id": "c6HdMRrw0ZNz",
        "outputId": "18f45c48-86ed-421a-ad51-3c0221b1536f"
      },
      "outputs": [
        {
          "name": "stdout",
          "output_type": "stream",
          "text": [
            "[1, 2, 3, ['1', '2', '3'], [True, False, True]]\n"
          ]
        }
      ],
      "source": [
        "multiples = [1, 2, 3, [\"1\", \"2\", \"3\"], [True, False, True]]\n",
        "\n",
        "print(multiples)"
      ]
    },
    {
      "attachments": {},
      "cell_type": "markdown",
      "metadata": {
        "id": "YxjlHyhU1Dtw"
      },
      "source": [
        "# **Métodos de Listas**"
      ]
    },
    {
      "cell_type": "code",
      "execution_count": null,
      "metadata": {
        "colab": {
          "base_uri": "https://localhost:8080/"
        },
        "id": "GpUI2AzA1IEH",
        "outputId": "af86b0bf-8ca3-4842-fdc6-d12707aef45c"
      },
      "outputs": [
        {
          "name": "stdout",
          "output_type": "stream",
          "text": [
            "['Hola', 'mundo', 'estoy', 'programando', 'Python']\n",
            "['Hola', 'mundo', 'estoy', 'programando', 'Python', '3']\n"
          ]
        }
      ],
      "source": [
        "courses = [\"Hola\", \"mundo\", \"estoy\", \"programando\", \"Python\"]\n",
        "\n",
        "print(courses)\n",
        "\n",
        "courses.append(\"3\")\n",
        "\n",
        "print(courses)"
      ]
    },
    {
      "cell_type": "code",
      "execution_count": null,
      "metadata": {
        "colab": {
          "base_uri": "https://localhost:8080/"
        },
        "id": "8ITlY47C1Z6j",
        "outputId": "b0d2e4ef-77f4-4f69-89ac-a81ae6573b82"
      },
      "outputs": [
        {
          "name": "stdout",
          "output_type": "stream",
          "text": [
            "['Hola', 'mundo', 'estoy', 'programando', 'Python', ['es', 'muy', 'interesante', 'y', 'entretenido']]\n"
          ]
        }
      ],
      "source": [
        "courses = [\"Hola\", \"mundo\", \"estoy\", \"programando\", \"Python\"]\n",
        "courses2 = [\"es\", \"muy\", \"interesante\", \"y\", \"entretenido\"]\n",
        "\n",
        "courses.append(courses2)\n",
        "\n",
        "print(courses)"
      ]
    },
    {
      "cell_type": "code",
      "execution_count": null,
      "metadata": {
        "colab": {
          "base_uri": "https://localhost:8080/"
        },
        "id": "1MIR8qXE17Of",
        "outputId": "159a9d12-64a1-4456-84e8-a6da4ea64992"
      },
      "outputs": [
        {
          "name": "stdout",
          "output_type": "stream",
          "text": [
            "['Hola', 'mundo', 'estoy', 'programando', 'Python', 'es', 'muy', 'interesante', 'y', 'entretenido']\n"
          ]
        }
      ],
      "source": [
        "courses = [\"Hola\", \"mundo\", \"estoy\", \"programando\", \"Python\"]\n",
        "courses2 = [\"es\", \"muy\", \"interesante\", \"y\", \"entretenido\"]\n",
        "\n",
        "resultado = courses + courses2\n",
        "\n",
        "print(resultado)"
      ]
    },
    {
      "cell_type": "code",
      "execution_count": null,
      "metadata": {
        "colab": {
          "base_uri": "https://localhost:8080/"
        },
        "id": "5xPFYtZ-2Fn9",
        "outputId": "fbc176f3-272e-4f65-d0fc-6d9bb38401f6"
      },
      "outputs": [
        {
          "name": "stdout",
          "output_type": "stream",
          "text": [
            "['Hola', 'mundo', 'programando', 'Python']\n"
          ]
        }
      ],
      "source": [
        "courses = [\"Hola\", \"mundo\", \"estoy\", \"programando\", \"Python\"]\n",
        "\n",
        "courses.remove(\"estoy\")\n",
        "\n",
        "print(courses)"
      ]
    },
    {
      "cell_type": "code",
      "execution_count": null,
      "metadata": {
        "colab": {
          "base_uri": "https://localhost:8080/"
        },
        "id": "NREdWrNn2iUP",
        "outputId": "cebefe19-9c89-4fe8-b383-7f80b04bd3c5"
      },
      "outputs": [
        {
          "name": "stdout",
          "output_type": "stream",
          "text": [
            "['Hola', 'mundo', 'estoy', 'Python']\n",
            "programando\n"
          ]
        }
      ],
      "source": [
        "courses = [\"Hola\", \"mundo\", \"estoy\", \"programando\", \"Python\"]\n",
        "\n",
        "popped = courses.pop(3)\n",
        "\n",
        "print(courses)\n",
        "print(popped)"
      ]
    },
    {
      "cell_type": "code",
      "execution_count": null,
      "metadata": {
        "colab": {
          "base_uri": "https://localhost:8080/"
        },
        "id": "ZGMRxSc22t6l",
        "outputId": "57c4934c-74b2-4e42-8d47-74fe608ecb8a"
      },
      "outputs": [
        {
          "name": "stdout",
          "output_type": "stream",
          "text": [
            "['a', 'b', 'c', 'd']\n"
          ]
        }
      ],
      "source": [
        "courses = [\"b\", \"c\", \"d\", \"a\"]\n",
        "\n",
        "courses.sort()\n",
        "\n",
        "print(courses)"
      ]
    },
    {
      "cell_type": "code",
      "execution_count": null,
      "metadata": {
        "colab": {
          "base_uri": "https://localhost:8080/"
        },
        "id": "TEwkq05R24-Y",
        "outputId": "9caab617-f7e4-4774-d06a-7791c3388e1c"
      },
      "outputs": [
        {
          "name": "stdout",
          "output_type": "stream",
          "text": [
            "['1', '2', '3', '4']\n"
          ]
        }
      ],
      "source": [
        "courses = [\"3\", \"4\", \"2\", \"1\"]\n",
        "\n",
        "courses.sort()\n",
        "\n",
        "print(courses)"
      ]
    },
    {
      "cell_type": "code",
      "execution_count": null,
      "metadata": {
        "colab": {
          "base_uri": "https://localhost:8080/"
        },
        "id": "4PHwm9ud3CGt",
        "outputId": "f438bed2-fa3d-4edb-9a01-672526a0c11a"
      },
      "outputs": [
        {
          "name": "stdout",
          "output_type": "stream",
          "text": [
            "['4', '3', '2', '1']\n"
          ]
        }
      ],
      "source": [
        "courses = [\"3\", \"4\", \"2\", \"1\"]\n",
        "\n",
        "courses.sort(reverse = True)\n",
        "\n",
        "print(courses)"
      ]
    },
    {
      "attachments": {},
      "cell_type": "markdown",
      "metadata": {
        "id": "IdPpufWx3GkZ"
      },
      "source": [
        "# **Sorted vs Sort**"
      ]
    },
    {
      "cell_type": "code",
      "execution_count": null,
      "metadata": {
        "colab": {
          "base_uri": "https://localhost:8080/",
          "height": 235
        },
        "id": "VFsSvNye3JjP",
        "outputId": "f5ff1988-5574-47eb-9868-5b023fba8195"
      },
      "outputs": [
        {
          "ename": "TypeError",
          "evalue": "ignored",
          "output_type": "error",
          "traceback": [
            "\u001b[0;31m---------------------------------------------------------------------------\u001b[0m",
            "\u001b[0;31mTypeError\u001b[0m                                 Traceback (most recent call last)",
            "\u001b[0;32m<ipython-input-97-aace1506d1a7>\u001b[0m in \u001b[0;36m<module>\u001b[0;34m()\u001b[0m\n\u001b[1;32m      2\u001b[0m \u001b[0;34m\u001b[0m\u001b[0m\n\u001b[1;32m      3\u001b[0m \u001b[0;34m\u001b[0m\u001b[0m\n\u001b[0;32m----> 4\u001b[0;31m \u001b[0msorted\u001b[0m \u001b[0;34m=\u001b[0m \u001b[0msorted\u001b[0m\u001b[0;34m(\u001b[0m\u001b[0mcourses\u001b[0m\u001b[0;34m)\u001b[0m\u001b[0;34m\u001b[0m\u001b[0;34m\u001b[0m\u001b[0m\n\u001b[0m\u001b[1;32m      5\u001b[0m \u001b[0mcourses\u001b[0m\u001b[0;34m.\u001b[0m\u001b[0msort\u001b[0m\u001b[0;34m(\u001b[0m\u001b[0;34m)\u001b[0m\u001b[0;34m\u001b[0m\u001b[0;34m\u001b[0m\u001b[0m\n\u001b[1;32m      6\u001b[0m \u001b[0;34m\u001b[0m\u001b[0m\n",
            "\u001b[0;31mTypeError\u001b[0m: 'list' object is not callable"
          ]
        }
      ],
      "source": [
        "courses = [\"3\", \"4\", \"2\", \"1\"]\n",
        "\n",
        "\n",
        "sorted = sorted(courses)\n",
        "courses.sort()\n",
        "\n",
        "print(sorted)\n",
        "print(courses)"
      ]
    },
    {
      "attachments": {},
      "cell_type": "markdown",
      "metadata": {
        "id": "g_Im3Dmd36pW"
      },
      "source": [
        "# **Más detalles de la Lista**"
      ]
    },
    {
      "cell_type": "code",
      "execution_count": null,
      "metadata": {
        "colab": {
          "base_uri": "https://localhost:8080/"
        },
        "id": "ix69nNkv4F0f",
        "outputId": "a49f562e-2629-4312-bccd-91fae3c71b08"
      },
      "outputs": [
        {
          "name": "stdout",
          "output_type": "stream",
          "text": [
            "1, 2, 3, 4\n",
            "1 - 2 - 3 - 4\n",
            "1abc2abc3abc4\n",
            "['1', '2', '3', '4']\n"
          ]
        }
      ],
      "source": [
        "courses = [\"1\", \"2\", \"3\", \"4\"]\n",
        "\n",
        "print(\", \".join(courses))\n",
        "print(\" - \".join(courses))\n",
        "print(\"abc\".join(courses))\n"
      ]
    },
    {
      "attachments": {},
      "cell_type": "markdown",
      "metadata": {
        "id": "OjHkGSo54tWK"
      },
      "source": [
        "# **Mutable vs Inmutable**"
      ]
    },
    {
      "cell_type": "code",
      "execution_count": null,
      "metadata": {
        "colab": {
          "base_uri": "https://localhost:8080/"
        },
        "id": "7azSJp0Y4v20",
        "outputId": "9f737ee0-87e5-4d94-d127-6d33a2fa58c3"
      },
      "outputs": [
        {
          "name": "stdout",
          "output_type": "stream",
          "text": [
            "Courses:\n",
            " ['Python', 'Math', 'Science']\n",
            "Courses 2:\n",
            " ['Python', 'Math', 'Science']\n"
          ]
        }
      ],
      "source": [
        "courses = [\"Python\", \"Math\", \"Science\"]\n",
        "courses2 = courses\n",
        "\n",
        "print(\"Courses:\\n\", courses)\n",
        "\n",
        "print(\"Courses 2:\\n\", courses2)"
      ]
    },
    {
      "cell_type": "code",
      "execution_count": null,
      "metadata": {
        "colab": {
          "base_uri": "https://localhost:8080/"
        },
        "id": "ZzEUSi7K5AhC",
        "outputId": "53cde96b-e364-4351-eec7-ffe845dc42b7"
      },
      "outputs": [
        {
          "name": "stdout",
          "output_type": "stream",
          "text": [
            "Courses:\n",
            " ['Art', 'Math', 'Science']\n",
            "Courses 2:\n",
            " ['Art', 'Math', 'Science']\n"
          ]
        }
      ],
      "source": [
        "courses[0] = \"Art\"\n",
        "\n",
        "print(\"Courses:\\n\", courses)\n",
        "\n",
        "print(\"Courses 2:\\n\", courses2)"
      ]
    },
    {
      "cell_type": "code",
      "execution_count": null,
      "metadata": {
        "colab": {
          "base_uri": "https://localhost:8080/"
        },
        "id": "90yjU29P6zsK",
        "outputId": "718fe6a6-dbe2-4447-d35a-74e1a22a63dd"
      },
      "outputs": [
        {
          "name": "stdout",
          "output_type": "stream",
          "text": [
            "Courses:\n",
            " ['History', 'Math', 'Science']\n",
            "Courses 2:\n",
            " ['History', 'Math', 'Science']\n"
          ]
        }
      ],
      "source": [
        "courses = [\"Python\", \"Math\", \"Science\"]\n",
        "courses2 = courses\n",
        "\n",
        "courses2[0] = \"History\"\n",
        "\n",
        "print(\"Courses:\\n\", courses)\n",
        "\n",
        "print(\"Courses 2:\\n\", courses2)"
      ]
    },
    {
      "cell_type": "code",
      "execution_count": null,
      "metadata": {
        "colab": {
          "base_uri": "https://localhost:8080/"
        },
        "id": "PmhoW8sO8G5z",
        "outputId": "2a705d00-f0fd-4463-c6fd-9bb4200446cd"
      },
      "outputs": [
        {
          "name": "stdout",
          "output_type": "stream",
          "text": [
            "Courses:\n",
            " ['Python', 'Math', 'Science']\n",
            "Courses 2:\n",
            " ['Python', 'Math', 'Science']\n",
            "Courses:\n",
            " ['Python', 'Math', 'Science']\n",
            "Courses 2:\n",
            " ['History', 'Math', 'Science']\n"
          ]
        }
      ],
      "source": [
        "courses = [\"Python\", \"Math\", \"Science\"]\n",
        "courses2 = courses.copy()\n",
        "\n",
        "print(\"Courses:\\n\", courses)\n",
        "\n",
        "print(\"Courses 2:\\n\", courses2)\n",
        "\n",
        "courses2[0] = \"History\"\n",
        "\n",
        "print(\"Courses:\\n\", courses)\n",
        "\n",
        "print(\"Courses 2:\\n\", courses2)"
      ]
    },
    {
      "cell_type": "code",
      "execution_count": null,
      "metadata": {
        "colab": {
          "base_uri": "https://localhost:8080/"
        },
        "id": "oikic0Pt9ZBx",
        "outputId": "b4dc77b5-89c2-49dc-b5b6-7017e95690e1"
      },
      "outputs": [
        {
          "data": {
            "text/plain": [
              "1"
            ]
          },
          "execution_count": 5,
          "metadata": {},
          "output_type": "execute_result"
        }
      ],
      "source": [
        "x = [max, min]\n",
        "\n",
        "x[0](1,2)\n",
        "x[1](1,2)"
      ]
    },
    {
      "cell_type": "code",
      "execution_count": null,
      "metadata": {
        "colab": {
          "base_uri": "https://localhost:8080/"
        },
        "id": "RbL6Hg3c-EGx",
        "outputId": "f6087739-2689-4a91-a972-4551716af659"
      },
      "outputs": [
        {
          "name": "stdout",
          "output_type": "stream",
          "text": [
            "Courses:\n",
            " ['History', 'Math', 'Python']\n",
            "Courses 2:\n",
            " ['History', 'Math', 'Python']\n",
            "courses is courses2:\n",
            " True\n"
          ]
        }
      ],
      "source": [
        "courses = [\"History\", \"Math\", \"Python\"]\n",
        "courses2 = courses\n",
        "\n",
        "print(\"Courses:\\n\", courses)\n",
        "print(\"Courses 2:\\n\", courses2)\n",
        "\n",
        "print(\"courses is courses2:\\n\", courses is courses2)"
      ]
    },
    {
      "cell_type": "code",
      "execution_count": null,
      "metadata": {
        "colab": {
          "base_uri": "https://localhost:8080/"
        },
        "id": "LfJM90Vj-O-w",
        "outputId": "72afa17b-bce2-4fa9-9ee9-204f6eff6579"
      },
      "outputs": [
        {
          "name": "stdout",
          "output_type": "stream",
          "text": [
            "Courses:\n",
            " ['History', 'Math', 'Python']\n",
            "Courses 2:\n",
            " ['History', 'Math', 'Python']\n",
            "courses is courses2:\n",
            " False\n"
          ]
        }
      ],
      "source": [
        "courses = [\"History\", \"Math\", \"Python\"]\n",
        "courses2 = courses.copy()\n",
        "\n",
        "print(\"Courses:\\n\", courses)\n",
        "print(\"Courses 2:\\n\", courses2)\n",
        "\n",
        "print(\"courses is courses2:\\n\", courses is courses2)"
      ]
    },
    {
      "cell_type": "code",
      "execution_count": null,
      "metadata": {
        "colab": {
          "base_uri": "https://localhost:8080/"
        },
        "id": "BAPOZDT2_DuU",
        "outputId": "49fb612a-3500-406a-92ef-ffe381ed3df1"
      },
      "outputs": [
        {
          "name": "stdout",
          "output_type": "stream",
          "text": [
            "Deep List:\n",
            " [[1, 2, 3], [4, 5, 6], [7, 8, 9]]\n",
            "Deep List 2:\n",
            " [[1, 2, 3], [4, 5, 6], [7, 8, 9]]\n",
            "Deep List is Deep List 2:\n",
            " False\n",
            "Deep List[0] is Deep List 2[0]:\n",
            " True\n"
          ]
        }
      ],
      "source": [
        "deep_list = [[1, 2, 3], [4, 5, 6], [7, 8, 9]]\n",
        "\n",
        "deep_list2 = deep_list.copy()\n",
        "\n",
        "print(\"Deep List:\\n\", deep_list)\n",
        "\n",
        "print(\"Deep List 2:\\n\", deep_list2)\n",
        "\n",
        "\n",
        "print(\"Deep List is Deep List 2:\\n\", deep_list is deep_list2)\n",
        "\n",
        "print(\"Deep List[0] is Deep List 2[0]:\\n\", deep_list[0] is deep_list2[0])"
      ]
    },
    {
      "cell_type": "code",
      "execution_count": null,
      "metadata": {
        "colab": {
          "base_uri": "https://localhost:8080/"
        },
        "id": "o310eR3c_4lf",
        "outputId": "6109b3bb-ec19-4cc0-eb82-fce739f04b44"
      },
      "outputs": [
        {
          "name": "stdout",
          "output_type": "stream",
          "text": [
            "Deep List:\n",
            " [[1, 2, 'qwerty'], [4, 5, 6], [7, 8, 9]]\n",
            "Deep List 2:\n",
            " [[1, 2, 'qwerty'], [4, 5, 6], [7, 8, 9]]\n"
          ]
        }
      ],
      "source": [
        "deep_list = [[1, 2, 3], [4, 5, 6], [7, 8, 9]]\n",
        "deep_list2 = deep_list.copy()\n",
        "\n",
        "deep_list[0][2] = \"qwerty\"\n",
        "\n",
        "print(\"Deep List:\\n\", deep_list)\n",
        "\n",
        "print(\"Deep List 2:\\n\", deep_list2)"
      ]
    },
    {
      "cell_type": "code",
      "execution_count": null,
      "metadata": {
        "colab": {
          "base_uri": "https://localhost:8080/"
        },
        "id": "Yxzy1lNFAjyi",
        "outputId": "1c2d72c8-253a-486f-b8bd-3445488988d6"
      },
      "outputs": [
        {
          "name": "stdout",
          "output_type": "stream",
          "text": [
            "Deep List:\n",
            " [[1, 2, 3], [4, 5, 6], [7, 8, 9]]\n",
            "Deep List 2:\n",
            " [[1, 2, 3], [4, 5, 6], [7, 8, 9]]\n",
            "Deep List is Deep List 2:\n",
            " False\n",
            "Deep List[0] is Deep List 2[0]:\n",
            " False\n"
          ]
        }
      ],
      "source": [
        "deep_list = [[1, 2, 3], [4, 5, 6], [7, 8, 9]]\n",
        "deep_list2 = [val.copy() for val in deep_list]\n",
        "\n",
        "print(\"Deep List:\\n\", deep_list)\n",
        "\n",
        "print(\"Deep List 2:\\n\", deep_list2)\n",
        "\n",
        "print(\"Deep List is Deep List 2:\\n\", deep_list is deep_list2)\n",
        "\n",
        "print(\"Deep List[0] is Deep List 2[0]:\\n\", deep_list[0] is deep_list2[0])"
      ]
    },
    {
      "cell_type": "code",
      "execution_count": null,
      "metadata": {
        "colab": {
          "base_uri": "https://localhost:8080/"
        },
        "id": "d3nK5qrR0P9-",
        "outputId": "25dda575-44e6-448b-e019-173c2fe7ebdc"
      },
      "outputs": [
        {
          "name": "stdout",
          "output_type": "stream",
          "text": [
            "2\n",
            "1\n"
          ]
        }
      ],
      "source": [
        "x = 1\n",
        "y = x\n",
        "x = 2\n",
        "\n",
        "print(x)\n",
        "print(y)"
      ]
    },
    {
      "cell_type": "code",
      "execution_count": null,
      "metadata": {
        "id": "BnhFdRU32jx6"
      },
      "outputs": [],
      "source": [
        "x = [1, 2, 3]\n",
        "y = x\n",
        "y = [3, 2, 3]\n",
        "\n",
        "print(x)"
      ]
    },
    {
      "attachments": {},
      "cell_type": "markdown",
      "metadata": {
        "id": "AQRzLVaD3nz2"
      },
      "source": [
        "# **Tuplas**"
      ]
    },
    {
      "cell_type": "code",
      "execution_count": null,
      "metadata": {
        "colab": {
          "base_uri": "https://localhost:8080/"
        },
        "id": "J5f4ZGPz3qIr",
        "outputId": "08933287-37ee-409e-8c14-79a529c9a14d"
      },
      "outputs": [
        {
          "name": "stdout",
          "output_type": "stream",
          "text": [
            "('History', 'Math', 'Physics', 'Computer Science')\n",
            "<class 'tuple'>\n",
            "History\n"
          ]
        }
      ],
      "source": [
        "courses_tuple = (\"History\", \"Math\", \"Physics\", \"Computer Science\")\n",
        "print(courses_tuple)\n",
        "print(type(courses_tuple))\n",
        "\n",
        "print(courses_tuple[0])"
      ]
    },
    {
      "cell_type": "code",
      "execution_count": null,
      "metadata": {
        "colab": {
          "base_uri": "https://localhost:8080/",
          "height": 183
        },
        "id": "DJbgs4rH6T8o",
        "outputId": "d24f4b81-d161-4565-d943-7603e045d366"
      },
      "outputs": [
        {
          "ename": "TypeError",
          "evalue": "ignored",
          "output_type": "error",
          "traceback": [
            "\u001b[0;31m---------------------------------------------------------------------------\u001b[0m",
            "\u001b[0;31mTypeError\u001b[0m                                 Traceback (most recent call last)",
            "\u001b[0;32m<ipython-input-26-1965cb7d8e42>\u001b[0m in \u001b[0;36m<module>\u001b[0;34m()\u001b[0m\n\u001b[0;32m----> 1\u001b[0;31m \u001b[0mnew_tuple\u001b[0m \u001b[0;34m=\u001b[0m \u001b[0mcourses_tuple\u001b[0m \u001b[0;34m+\u001b[0m \u001b[0;34m(\u001b[0m\u001b[0;34m\"Art, \"\u001b[0m\u001b[0;34m)\u001b[0m\u001b[0;34m\u001b[0m\u001b[0;34m\u001b[0m\u001b[0m\n\u001b[0m\u001b[1;32m      2\u001b[0m \u001b[0mprint\u001b[0m\u001b[0;34m(\u001b[0m\u001b[0mnew_tuple\u001b[0m\u001b[0;34m)\u001b[0m\u001b[0;34m\u001b[0m\u001b[0;34m\u001b[0m\u001b[0m\n",
            "\u001b[0;31mTypeError\u001b[0m: can only concatenate tuple (not \"str\") to tuple"
          ]
        }
      ],
      "source": [
        "new_tuple = courses_tuple + (\"Art, \")\n",
        "print(new_tuple)"
      ]
    },
    {
      "cell_type": "code",
      "execution_count": null,
      "metadata": {
        "colab": {
          "base_uri": "https://localhost:8080/"
        },
        "id": "Knzl_JFV4GdZ",
        "outputId": "edfed02b-6282-4cc4-b2f4-6e212721c5ac"
      },
      "outputs": [
        {
          "name": "stdout",
          "output_type": "stream",
          "text": [
            "Cython\n"
          ]
        }
      ],
      "source": [
        "x = \"Python\"\n",
        "\n",
        "print(\"C\" + x[1:])"
      ]
    },
    {
      "attachments": {},
      "cell_type": "markdown",
      "metadata": {
        "id": "mYkkEnr07a8Q"
      },
      "source": [
        "# **Condicionales**"
      ]
    },
    {
      "cell_type": "code",
      "execution_count": null,
      "metadata": {
        "colab": {
          "base_uri": "https://localhost:8080/"
        },
        "id": "Ns01cSCB7dMP",
        "outputId": "c621f502-c3ea-4fd5-9ce0-de5b16f61cec"
      },
      "outputs": [
        {
          "name": "stdout",
          "output_type": "stream",
          "text": [
            "La condición es verdadera\n",
            "30\n",
            "Hello\n"
          ]
        }
      ],
      "source": [
        "if True:\n",
        "  print(\"La condición es verdadera\")\n",
        "\n",
        "  x = 30\n",
        "  print(x)\n",
        "\n",
        "print(\"Hello\")"
      ]
    },
    {
      "cell_type": "code",
      "execution_count": null,
      "metadata": {
        "colab": {
          "base_uri": "https://localhost:8080/"
        },
        "id": "EHlFzTMF8w_q",
        "outputId": "a08e4ca3-bce5-4b29-d774-6c2933c39fbd"
      },
      "outputs": [
        {
          "name": "stdout",
          "output_type": "stream",
          "text": [
            "Par\n"
          ]
        }
      ],
      "source": [
        "x = 34\n",
        "\n",
        "if x % 2 == 0:\n",
        "  print(\"Par\")\n",
        "else:\n",
        "  print(\"Impar\")"
      ]
    },
    {
      "cell_type": "code",
      "execution_count": null,
      "metadata": {
        "colab": {
          "base_uri": "https://localhost:8080/"
        },
        "id": "YgvQPAx49Ygg",
        "outputId": "ebf46c54-a2ad-4490-8b14-ee8aacc90158"
      },
      "outputs": [
        {
          "name": "stdout",
          "output_type": "stream",
          "text": [
            "x es mayor a y\n"
          ]
        }
      ],
      "source": [
        "x = 5\n",
        "y = 2\n",
        "\n",
        "if x > y:\n",
        "  print(\"x es mayor a y\")\n",
        "else:\n",
        "  print(\"y es mayor a x\")"
      ]
    },
    {
      "cell_type": "code",
      "execution_count": null,
      "metadata": {
        "colab": {
          "base_uri": "https://localhost:8080/"
        },
        "id": "y6NDwozS9j5q",
        "outputId": "63f88df5-96f8-43a0-b8c1-265933325ab0"
      },
      "outputs": [
        {
          "name": "stdout",
          "output_type": "stream",
          "text": [
            "x es igual a y\n"
          ]
        }
      ],
      "source": [
        "x = 5\n",
        "y = 5\n",
        "\n",
        "if x > y:\n",
        "  print(\"x es mayor a y\")\n",
        "elif x == y:\n",
        "  print(\"x es igual a y\")\n",
        "else:\n",
        "  print(\"y es mayor a x\")"
      ]
    },
    {
      "cell_type": "code",
      "execution_count": null,
      "metadata": {
        "colab": {
          "base_uri": "https://localhost:8080/"
        },
        "id": "72XSF31D-nec",
        "outputId": "806f4795-3148-43d1-9cfc-938d2dfd2242"
      },
      "outputs": [
        {
          "name": "stdout",
          "output_type": "stream",
          "text": [
            "Primero\n"
          ]
        }
      ],
      "source": [
        "x = 100\n",
        "y = 100\n",
        "z = 1000\n",
        "\n",
        "if z > x:\n",
        "  print(\"Primero\")\n",
        "elif x == y:\n",
        "  print(\"Segundo\")\n",
        "else:\n",
        "  print(\"Tercero\")"
      ]
    },
    {
      "attachments": {},
      "cell_type": "markdown",
      "metadata": {
        "id": "ItGv3rx8_Jpu"
      },
      "source": [
        "# **Loops**"
      ]
    },
    {
      "cell_type": "code",
      "execution_count": null,
      "metadata": {
        "colab": {
          "base_uri": "https://localhost:8080/"
        },
        "id": "pp9VXlSE_K85",
        "outputId": "429b79f8-3a1b-4afc-9749-e9793fa953ea"
      },
      "outputs": [
        {
          "name": "stdout",
          "output_type": "stream",
          "text": [
            "a\n",
            "b\n",
            "c\n",
            "d\n",
            "e\n"
          ]
        }
      ],
      "source": [
        "print(\"a\")\n",
        "print(\"b\")\n",
        "print(\"c\")\n",
        "print(\"d\")\n",
        "print(\"e\")"
      ]
    },
    {
      "cell_type": "code",
      "execution_count": null,
      "metadata": {
        "colab": {
          "base_uri": "https://localhost:8080/"
        },
        "id": "eUOOynqX_d6U",
        "outputId": "8aef49d6-19c9-4e8c-c5e3-3a3e529433d0"
      },
      "outputs": [
        {
          "name": "stdout",
          "output_type": "stream",
          "text": [
            "a\n",
            "b\n",
            "c\n",
            "d\n",
            "e\n"
          ]
        }
      ],
      "source": [
        "letters = [\"a\", \"b\", \"c\", \"d\", \"e\"]\n",
        "\n",
        "print(letters[0])\n",
        "print(letters[1])\n",
        "print(letters[2])\n",
        "print(letters[3])\n",
        "print(letters[4])"
      ]
    },
    {
      "cell_type": "code",
      "execution_count": null,
      "metadata": {
        "colab": {
          "base_uri": "https://localhost:8080/"
        },
        "id": "xnCwzakWBaU7",
        "outputId": "3630960d-5be8-4efe-a782-74bc016058bf"
      },
      "outputs": [
        {
          "name": "stdout",
          "output_type": "stream",
          "text": [
            "a\n",
            "b\n",
            "c\n",
            "d\n",
            "e\n"
          ]
        }
      ],
      "source": [
        "letters = [\"a\", \"b\", \"c\", \"d\", \"e\"]\n",
        "\n",
        "for i in letters:\n",
        "  print(i)"
      ]
    },
    {
      "cell_type": "code",
      "execution_count": null,
      "metadata": {
        "colab": {
          "base_uri": "https://localhost:8080/"
        },
        "id": "ft0qDK8I_oyy",
        "outputId": "7bbef787-99f8-4df8-c2d9-5c49c696676f"
      },
      "outputs": [
        {
          "name": "stdout",
          "output_type": "stream",
          "text": [
            "a\n",
            "b\n",
            "c\n",
            "d\n",
            "e\n",
            "97\n",
            "98\n",
            "99\n",
            "100\n",
            "101\n"
          ]
        }
      ],
      "source": [
        "letters = [97, 98, 99, 100, 101]\n",
        "\n",
        "for i in letters:\n",
        "  print(chr(i))\n",
        "\n",
        "letters = [\"a\", \"b\", \"c\", \"d\", \"e\"]\n",
        "\n",
        "for i in letters:\n",
        "  print(ord(i))"
      ]
    },
    {
      "cell_type": "code",
      "execution_count": null,
      "metadata": {
        "colab": {
          "base_uri": "https://localhost:8080/"
        },
        "id": "0XFSXDb5CgmK",
        "outputId": "30ca4ca3-2b95-4c4a-e27d-d1884d294968"
      },
      "outputs": [
        {
          "name": "stdout",
          "output_type": "stream",
          "text": [
            "<built-in method upper of str object at 0x7f73e38ff6b0>\n",
            "<built-in method upper of str object at 0x7f73e38d4b70>\n",
            "<built-in method upper of str object at 0x7f73e38c31b0>\n",
            "<built-in method upper of str object at 0x7f73e38aa1b0>\n",
            "<built-in method upper of str object at 0x7f73e38984b0>\n"
          ]
        }
      ],
      "source": [
        "letters = [\"a\", \"b\", \"c\", \"d\", \"e\"]\n",
        "\n",
        "for i in letters:\n",
        "  print(i)"
      ]
    },
    {
      "cell_type": "code",
      "execution_count": null,
      "metadata": {
        "id": "WdjL7pSiBq3F"
      },
      "outputs": [],
      "source": [
        "letters = [\"a\", \"b\", \"c\", \"d\", \"e\"]\n",
        "nums = [1, 2, 3, 4, 5]\n",
        "\n",
        "for letter in letters:\n",
        "  for num in nums:\n",
        "    print(letter, num)"
      ]
    },
    {
      "cell_type": "code",
      "execution_count": null,
      "metadata": {
        "colab": {
          "base_uri": "https://localhost:8080/"
        },
        "id": "9QIFnnl2CZ0Y",
        "outputId": "f5e7f079-0753-4be6-9094-91a5fd5f0b26"
      },
      "outputs": [
        {
          "name": "stdout",
          "output_type": "stream",
          "text": [
            "1\n",
            "3\n",
            "5\n",
            "7\n",
            "9\n"
          ]
        }
      ],
      "source": [
        "for i in range(1, 10, 2):\n",
        "  print(i)"
      ]
    },
    {
      "cell_type": "code",
      "execution_count": null,
      "metadata": {
        "colab": {
          "base_uri": "https://localhost:8080/"
        },
        "id": "M4kq7D72C5Sh",
        "outputId": "2bb6decd-fadc-4934-d2b5-1eec533470b1"
      },
      "outputs": [
        {
          "name": "stdout",
          "output_type": "stream",
          "text": [
            "Hello\n"
          ]
        }
      ],
      "source": [
        "while True:\n",
        "  print(\"Hello\")\n",
        "  break\n",
        "  print(\"End\")"
      ]
    },
    {
      "cell_type": "code",
      "execution_count": null,
      "metadata": {
        "colab": {
          "base_uri": "https://localhost:8080/"
        },
        "id": "tTlanQURDpID",
        "outputId": "a880ede4-9111-4a64-cbfa-c6b2eda4d583"
      },
      "outputs": [
        {
          "name": "stdout",
          "output_type": "stream",
          "text": [
            "0\n",
            "1\n",
            "2\n",
            "3\n",
            "4\n",
            "5\n",
            "End\n"
          ]
        }
      ],
      "source": [
        "x = 0\n",
        "\n",
        "while x <= 5:\n",
        "  print(x)\n",
        "  x += 1\n",
        "print(\"End\")"
      ]
    },
    {
      "cell_type": "code",
      "execution_count": null,
      "metadata": {
        "colab": {
          "base_uri": "https://localhost:8080/"
        },
        "id": "G8FMRCWvERCi",
        "outputId": "d8c3940d-2a68-4b88-a679-8b663a57778a"
      },
      "outputs": [
        {
          "name": "stdout",
          "output_type": "stream",
          "text": [
            "2\n",
            "3\n",
            "4\n",
            "5\n"
          ]
        }
      ],
      "source": [
        "x = 1\n",
        "\n",
        "while True:\n",
        "  x += 1\n",
        "  if x > 5:\n",
        "    break\n",
        "  print(x)"
      ]
    },
    {
      "cell_type": "code",
      "execution_count": null,
      "metadata": {
        "colab": {
          "base_uri": "https://localhost:8080/"
        },
        "id": "G6oKypuNE6Je",
        "outputId": "4c1832e9-332e-425d-aa3f-01c743982b59"
      },
      "outputs": [
        {
          "name": "stdout",
          "output_type": "stream",
          "text": [
            "quesito\n",
            "quesote\n",
            "quesitito\n",
            "queso\n",
            "Encontraste la palabra secreta\n"
          ]
        }
      ],
      "source": [
        "while True:\n",
        "  x = input()\n",
        "  if x == \"queso\":\n",
        "    print(\"Encontraste la palabra secreta\")\n",
        "    break"
      ]
    },
    {
      "attachments": {},
      "cell_type": "markdown",
      "metadata": {
        "id": "rmdbwqKZFlho"
      },
      "source": [
        "# **Diccionarios**"
      ]
    },
    {
      "cell_type": "code",
      "execution_count": null,
      "metadata": {
        "colab": {
          "base_uri": "https://localhost:8080/"
        },
        "id": "U_Y-FoJGFnJV",
        "outputId": "da227bfb-3f47-41be-91b2-40170250930e"
      },
      "outputs": [
        {
          "name": "stdout",
          "output_type": "stream",
          "text": [
            "a\n"
          ]
        }
      ],
      "source": [
        "x = [\"a\", \"b\", \"c\"]\n",
        "\n",
        "print(x[0])"
      ]
    },
    {
      "cell_type": "code",
      "execution_count": null,
      "metadata": {
        "colab": {
          "base_uri": "https://localhost:8080/"
        },
        "id": "hYLmAl-WF8Qs",
        "outputId": "2b64d14a-f51b-4f1f-a586-f4ff714201da"
      },
      "outputs": [
        {
          "name": "stdout",
          "output_type": "stream",
          "text": [
            "a\n"
          ]
        }
      ],
      "source": [
        "y = {\"d\": \"a\", \"e\": \"b\", \"f\": \"c\"}\n",
        "\n",
        "print(y[\"d\"])"
      ]
    },
    {
      "cell_type": "code",
      "execution_count": null,
      "metadata": {
        "colab": {
          "base_uri": "https://localhost:8080/"
        },
        "id": "31m4DOQPGAwe",
        "outputId": "4c5efcf7-4932-40fa-ed50-09f1082c9f2f"
      },
      "outputs": [
        {
          "name": "stdout",
          "output_type": "stream",
          "text": [
            "{'d': 'A', 'e': 'b', 'f': 'c'}\n"
          ]
        }
      ],
      "source": [
        "y = {\"d\": \"a\", \"e\": \"b\", \"f\": \"c\"}\n",
        "\n",
        "y[\"d\"] = \"A\"\n",
        "print(y)"
      ]
    },
    {
      "cell_type": "code",
      "execution_count": null,
      "metadata": {
        "colab": {
          "base_uri": "https://localhost:8080/"
        },
        "id": "ucm8kt6XGg4R",
        "outputId": "36cd0ce0-205d-4cb3-cf26-ac6ed4d844cd"
      },
      "outputs": [
        {
          "name": "stdout",
          "output_type": "stream",
          "text": [
            "{'Papa': 30, 'Queso': 50, 'Jamon': 15}\n",
            "{'Papa': 500, 'Queso': 50, 'Jamon': 15}\n"
          ]
        }
      ],
      "source": [
        "precios = {\"Papa\": 30, \"Queso\": 50, \"Jamon\": 15}\n",
        "\n",
        "print(precios)\n",
        "\n",
        "precios[\"Papa\"] = 500\n",
        "\n",
        "print(precios)"
      ]
    },
    {
      "cell_type": "code",
      "execution_count": null,
      "metadata": {
        "colab": {
          "base_uri": "https://localhost:8080/"
        },
        "id": "k23PPBFjKjuF",
        "outputId": "f39788e7-8ef5-4172-8f6c-cbeb83176c47"
      },
      "outputs": [
        {
          "name": "stdout",
          "output_type": "stream",
          "text": [
            "Me\n"
          ]
        }
      ],
      "source": [
        "x = \"Me encanta aprender python\"\n",
        "\n",
        "print(x[:2])"
      ]
    },
    {
      "cell_type": "code",
      "execution_count": null,
      "metadata": {
        "colab": {
          "base_uri": "https://localhost:8080/"
        },
        "id": "5FBDWeQHKzoe",
        "outputId": "7016e2b4-e739-4640-af05-bdc6a8349dac"
      },
      "outputs": [
        {
          "name": "stdout",
          "output_type": "stream",
          "text": [
            "[3, 2, 1]\n",
            "[1, 2, 3]\n"
          ]
        }
      ],
      "source": [
        "x = [3, 2, 1]\n",
        "\n",
        "y = sorted(x)\n",
        "print(x)\n",
        "print(y)"
      ]
    }
  ],
  "metadata": {
    "colab": {
      "provenance": []
    },
    "kernelspec": {
      "display_name": "Python 3",
      "name": "python3"
    },
    "language_info": {
      "codemirror_mode": {
        "name": "ipython",
        "version": 3
      },
      "file_extension": ".py",
      "mimetype": "text/x-python",
      "name": "python",
      "nbconvert_exporter": "python",
      "pygments_lexer": "ipython3",
      "version": "3.11.4"
    }
  },
  "nbformat": 4,
  "nbformat_minor": 0
}
